{
 "cells": [
  {
   "cell_type": "markdown",
   "id": "44fe7be4",
   "metadata": {},
   "source": [
    "# MOVIE RATING INSIGHTS"
   ]
  },
  {
   "cell_type": "markdown",
   "id": "0a0a5b22",
   "metadata": {},
   "source": [
    "## Reading from sample data"
   ]
  },
  {
   "cell_type": "code",
   "execution_count": 3,
   "id": "b667c08e",
   "metadata": {},
   "outputs": [
    {
     "name": "stdout",
     "output_type": "stream",
     "text": [
      "Movies Data:\n",
      "   movie_id          title\n",
      "0         1     The Matrix\n",
      "1         2      Inception\n",
      "2         3   Interstellar\n",
      "3         4       The Room\n",
      "4         5  The Godfather\n",
      "\n",
      "Ratings Data:\n",
      "   user_id  movie_id  rating\n",
      "0      101         1       5\n",
      "1      102         1       4\n",
      "2      103         1       5\n",
      "3      101         2       5\n",
      "4      102         2       4\n"
     ]
    }
   ],
   "source": [
    "import pandas as pd\n",
    "\n",
    "# Sample movies dataset\n",
    "movies = pd.read_excel(\"C:\\\\Users\\\\admin\\\\Downloads\\\\movies.xlsx\")\n",
    "\n",
    "# Sample ratings dataset\n",
    "ratings = pd.read_excel(\"C:\\\\Users\\\\admin\\\\Downloads\\\\ratings.xlsx\")\n",
    "print(\"Movies Data:\")\n",
    "print(movies.head())\n",
    "print(\"\\nRatings Data:\")\n",
    "print(ratings.head())\n",
    "\n"
   ]
  },
  {
   "cell_type": "markdown",
   "id": "a43a50ff",
   "metadata": {},
   "source": [
    "## Analyze Average Ratings per movie"
   ]
  },
  {
   "cell_type": "code",
   "execution_count": 4,
   "id": "695b72a4",
   "metadata": {},
   "outputs": [
    {
     "name": "stdout",
     "output_type": "stream",
     "text": [
      "🎬 Average Ratings per Movie:\n",
      "title\n",
      "The Godfather    5.000000\n",
      "The Matrix       4.666667\n",
      "Inception        4.500000\n",
      "Interstellar     3.500000\n",
      "The Room         1.000000\n",
      "Name: rating, dtype: float64\n"
     ]
    }
   ],
   "source": [
    "# Merge ratings with movies to get titles\n",
    "merged = pd.merge(ratings, movies, on='movie_id')\n",
    "\n",
    "# Calculate average rating per movie\n",
    "average_ratings = merged.groupby('title')['rating'].mean().sort_values(ascending=False)\n",
    "\n",
    "print(\"🎬 Average Ratings per Movie:\")\n",
    "print(average_ratings)\n"
   ]
  },
  {
   "cell_type": "markdown",
   "id": "d9c774eb",
   "metadata": {},
   "source": [
    "## Top Rated & Worst Rated Movies"
   ]
  },
  {
   "cell_type": "code",
   "execution_count": 5,
   "id": "2b8d6f2d",
   "metadata": {},
   "outputs": [
    {
     "name": "stdout",
     "output_type": "stream",
     "text": [
      "\n",
      "🏆 Top Rated Movie(s):\n",
      "title\n",
      "The Godfather    5.0\n",
      "Name: rating, dtype: float64\n",
      "\n",
      " Worst Rated Movie(s):\n",
      "title\n",
      "The Room    1.0\n",
      "Name: rating, dtype: float64\n"
     ]
    }
   ],
   "source": [
    "print(\"\\n🏆 Top Rated Movie(s):\")\n",
    "top_rating = average_ratings.max()\n",
    "print(average_ratings[average_ratings == top_rating])\n",
    "\n",
    "print(\"\\n Worst Rated Movie(s):\")\n",
    "lowest_rating = average_ratings.min()\n",
    "print(average_ratings[average_ratings == lowest_rating])\n"
   ]
  },
  {
   "cell_type": "markdown",
   "id": "ff94a1ef",
   "metadata": {},
   "source": [
    "## Most Rated Movies"
   ]
  },
  {
   "cell_type": "code",
   "execution_count": 6,
   "id": "cff5e432",
   "metadata": {},
   "outputs": [
    {
     "name": "stdout",
     "output_type": "stream",
     "text": [
      "\n",
      "📊 Most Rated Movies:\n",
      "title\n",
      "The Matrix       3\n",
      "Inception        2\n",
      "Interstellar     2\n",
      "The Godfather    2\n",
      "The Room         1\n",
      "Name: rating, dtype: int64\n"
     ]
    }
   ],
   "source": [
    "rating_counts = merged.groupby('title')['rating'].count().sort_values(ascending=False)\n",
    "print(\"\\n📊 Most Rated Movies:\")\n",
    "print(rating_counts)\n"
   ]
  },
  {
   "cell_type": "markdown",
   "id": "436fd560",
   "metadata": {},
   "source": [
    "## User Rating of a Movie"
   ]
  },
  {
   "cell_type": "code",
   "execution_count": 7,
   "id": "f4565c3c",
   "metadata": {},
   "outputs": [
    {
     "name": "stdout",
     "output_type": "stream",
     "text": [
      "✅ Added rating 5 for 'Inception' by User 106\n"
     ]
    }
   ],
   "source": [
    "def rate_movie(user_id, movie_title, user_rating):\n",
    "    # Find movie ID\n",
    "    movie = movies[movies['title'] == movie_title]\n",
    "    if movie.empty:\n",
    "        print(\"Movie not found.\")\n",
    "        return\n",
    "    movie_id = movie.iloc[0]['movie_id']\n",
    "    \n",
    "    # Add to ratings\n",
    "    global ratings\n",
    "    new_rating = pd.DataFrame({'user_id': [user_id], 'movie_id': [movie_id], 'rating': [user_rating]})\n",
    "    ratings = pd.concat([ratings, new_rating], ignore_index=True)\n",
    "    print(f\"✅ Added rating {user_rating} for '{movie_title}' by User {user_id}\")\n",
    "\n",
    "# Simulate user rating\n",
    "rate_movie(106, 'Inception', 5)\n"
   ]
  },
  {
   "cell_type": "markdown",
   "id": "bbeadb5e",
   "metadata": {},
   "source": [
    "## Visualization"
   ]
  },
  {
   "cell_type": "code",
   "execution_count": 8,
   "id": "0144c8e3",
   "metadata": {},
   "outputs": [
    {
     "data": {
      "image/png": "[encoded data removed]",
      "text/plain": [
       "<Figure size 640x480 with 1 Axes>"
      ]
     },
     "metadata": {},
     "output_type": "display_data"
    }
   ],
   "source": [
    "import matplotlib.pyplot as plt\n",
    "\n",
    "# Plot average ratings\n",
    "average_ratings.plot(kind='bar', title='Average Movie Ratings', color='skyblue')\n",
    "plt.ylabel('Rating')\n",
    "plt.xlabel('Movie')\n",
    "plt.tight_layout()\n",
    "plt.show()\n"
   ]
  },
  {
   "cell_type": "code",
   "execution_count": null,
   "id": "d87d9f97",
   "metadata": {},
   "outputs": [],
   "source": []
  }
 ],
 "metadata": {
  "kernelspec": {
   "display_name": "Python 3 (ipykernel)",
   "language": "python",
   "name": "python3"
  },
  "language_info": {
   "codemirror_mode": {
    "name": "ipython",
    "version": 3
   },
   "file_extension": ".py",
   "mimetype": "text/x-python",
   "name": "python",
   "nbconvert_exporter": "python",
   "pygments_lexer": "ipython3",
   "version": "3.11.3"
  }
 },
 "nbformat": 4,
 "nbformat_minor": 5
}
